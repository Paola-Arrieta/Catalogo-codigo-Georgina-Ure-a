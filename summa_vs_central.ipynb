{
 "cells": [
  {
   "cell_type": "code",
   "execution_count": 1,
   "metadata": {},
   "outputs": [],
   "source": [
    "import pandas as pd\n",
    "import numpy as np\n",
    "import datetime as dt"
   ]
  },
  {
   "cell_type": "markdown",
   "metadata": {},
   "source": [
    "# Carga de los datasets"
   ]
  },
  {
   "cell_type": "code",
   "execution_count": 4,
   "metadata": {},
   "outputs": [
    {
     "name": "stderr",
     "output_type": "stream",
     "text": [
      "C:\\Users\\gurenab\\AppData\\Local\\Temp\\ipykernel_15312\\3766511407.py:2: DtypeWarning: Columns (2) have mixed types. Specify dtype option on import or set low_memory=False.\n",
      "  llamadas_panama=pd.read_csv('C:/Users/gurenab/Documents/Central telefonica vs registros en summa/llamadas_panama.txt', sep=\",\")\n"
     ]
    },
    {
     "data": {
      "text/html": [
       "<div>\n",
       "<style scoped>\n",
       "    .dataframe tbody tr th:only-of-type {\n",
       "        vertical-align: middle;\n",
       "    }\n",
       "\n",
       "    .dataframe tbody tr th {\n",
       "        vertical-align: top;\n",
       "    }\n",
       "\n",
       "    .dataframe thead th {\n",
       "        text-align: right;\n",
       "    }\n",
       "</style>\n",
       "<table border=\"1\" class=\"dataframe\">\n",
       "  <thead>\n",
       "    <tr style=\"text-align: right;\">\n",
       "      <th></th>\n",
       "      <th>calldate</th>\n",
       "      <th>src</th>\n",
       "      <th>dst</th>\n",
       "      <th>lastapp</th>\n",
       "      <th>duration</th>\n",
       "      <th>billsec</th>\n",
       "      <th>disposition</th>\n",
       "    </tr>\n",
       "  </thead>\n",
       "  <tbody>\n",
       "    <tr>\n",
       "      <th>0</th>\n",
       "      <td>2023-04-01 07:58:45</td>\n",
       "      <td>137</td>\n",
       "      <td>64847613</td>\n",
       "      <td>Dial</td>\n",
       "      <td>25</td>\n",
       "      <td>2</td>\n",
       "      <td>ANSWERED</td>\n",
       "    </tr>\n",
       "    <tr>\n",
       "      <th>1</th>\n",
       "      <td>2023-04-01 07:59:27</td>\n",
       "      <td>121</td>\n",
       "      <td>2205310</td>\n",
       "      <td>Congestion</td>\n",
       "      <td>6</td>\n",
       "      <td>4</td>\n",
       "      <td>ANSWERED</td>\n",
       "    </tr>\n",
       "    <tr>\n",
       "      <th>2</th>\n",
       "      <td>2023-04-01 07:59:35</td>\n",
       "      <td>121</td>\n",
       "      <td>2205310</td>\n",
       "      <td>Congestion</td>\n",
       "      <td>8</td>\n",
       "      <td>6</td>\n",
       "      <td>ANSWERED</td>\n",
       "    </tr>\n",
       "    <tr>\n",
       "      <th>3</th>\n",
       "      <td>2023-04-01 07:59:46</td>\n",
       "      <td>258</td>\n",
       "      <td>68159499</td>\n",
       "      <td>Dial</td>\n",
       "      <td>0</td>\n",
       "      <td>0</td>\n",
       "      <td>NO ANSWER</td>\n",
       "    </tr>\n",
       "    <tr>\n",
       "      <th>4</th>\n",
       "      <td>2023-04-01 07:59:49</td>\n",
       "      <td>258</td>\n",
       "      <td>63173530</td>\n",
       "      <td>AGI</td>\n",
       "      <td>2</td>\n",
       "      <td>0</td>\n",
       "      <td>ANSWERED</td>\n",
       "    </tr>\n",
       "  </tbody>\n",
       "</table>\n",
       "</div>"
      ],
      "text/plain": [
       "              calldate  src       dst     lastapp  duration  billsec  \\\n",
       "0  2023-04-01 07:58:45  137  64847613        Dial        25        2   \n",
       "1  2023-04-01 07:59:27  121   2205310  Congestion         6        4   \n",
       "2  2023-04-01 07:59:35  121   2205310  Congestion         8        6   \n",
       "3  2023-04-01 07:59:46  258  68159499        Dial         0        0   \n",
       "4  2023-04-01 07:59:49  258  63173530         AGI         2        0   \n",
       "\n",
       "  disposition  \n",
       "0    ANSWERED  \n",
       "1    ANSWERED  \n",
       "2    ANSWERED  \n",
       "3   NO ANSWER  \n",
       "4    ANSWERED  "
      ]
     },
     "execution_count": 4,
     "metadata": {},
     "output_type": "execute_result"
    }
   ],
   "source": [
    "# Llamadas de Panamá\n",
    "llamadas_panama=pd.read_csv('C:/Users/gurenab/Documents/Central telefonica vs registros en summa/llamadas_panama.txt', sep=\",\")\n",
    "llamadas_panama.head()"
   ]
  },
  {
   "cell_type": "code",
   "execution_count": 49,
   "metadata": {},
   "outputs": [
    {
     "data": {
      "text/html": [
       "<div>\n",
       "<style scoped>\n",
       "    .dataframe tbody tr th:only-of-type {\n",
       "        vertical-align: middle;\n",
       "    }\n",
       "\n",
       "    .dataframe tbody tr th {\n",
       "        vertical-align: top;\n",
       "    }\n",
       "\n",
       "    .dataframe thead th {\n",
       "        text-align: right;\n",
       "    }\n",
       "</style>\n",
       "<table border=\"1\" class=\"dataframe\">\n",
       "  <thead>\n",
       "    <tr style=\"text-align: right;\">\n",
       "      <th></th>\n",
       "      <th>CLI_IDENTIFICACION</th>\n",
       "      <th>NUMERO</th>\n",
       "    </tr>\n",
       "  </thead>\n",
       "  <tbody>\n",
       "    <tr>\n",
       "      <th>0</th>\n",
       "      <td>PA-P-8-735-1882-BB</td>\n",
       "      <td>2662864</td>\n",
       "    </tr>\n",
       "    <tr>\n",
       "      <th>1</th>\n",
       "      <td>PA-P-C0300008101509-CI</td>\n",
       "      <td>66751778</td>\n",
       "    </tr>\n",
       "    <tr>\n",
       "      <th>2</th>\n",
       "      <td>PA-P-8-192-230-SB</td>\n",
       "      <td>2254834</td>\n",
       "    </tr>\n",
       "    <tr>\n",
       "      <th>3</th>\n",
       "      <td>PA-P-2-86-1591-SB</td>\n",
       "      <td>64128465</td>\n",
       "    </tr>\n",
       "    <tr>\n",
       "      <th>4</th>\n",
       "      <td>PA-P-8-263-223-SB</td>\n",
       "      <td>62221379</td>\n",
       "    </tr>\n",
       "  </tbody>\n",
       "</table>\n",
       "</div>"
      ],
      "text/plain": [
       "       CLI_IDENTIFICACION    NUMERO\n",
       "0      PA-P-8-735-1882-BB   2662864\n",
       "1  PA-P-C0300008101509-CI  66751778\n",
       "2       PA-P-8-192-230-SB   2254834\n",
       "3       PA-P-2-86-1591-SB  64128465\n",
       "4       PA-P-8-263-223-SB  62221379"
      ]
     },
     "execution_count": 49,
     "metadata": {},
     "output_type": "execute_result"
    }
   ],
   "source": [
    "# Central telefónica\n",
    "telefonos_sistema=pd.read_csv('C:/Users/gurenab/Documents/Central telefonica vs registros en summa/TELEFONOS_SISTEMA.csv',sep=';',encoding='utf-8')\n",
    "telefonos_sistema.head()"
   ]
  },
  {
   "cell_type": "markdown",
   "metadata": {},
   "source": [
    "# Se trabaja primero con las llamadas de Panamá"
   ]
  },
  {
   "cell_type": "code",
   "execution_count": 8,
   "metadata": {},
   "outputs": [
    {
     "data": {
      "text/html": [
       "<div>\n",
       "<style scoped>\n",
       "    .dataframe tbody tr th:only-of-type {\n",
       "        vertical-align: middle;\n",
       "    }\n",
       "\n",
       "    .dataframe tbody tr th {\n",
       "        vertical-align: top;\n",
       "    }\n",
       "\n",
       "    .dataframe thead th {\n",
       "        text-align: right;\n",
       "    }\n",
       "</style>\n",
       "<table border=\"1\" class=\"dataframe\">\n",
       "  <thead>\n",
       "    <tr style=\"text-align: right;\">\n",
       "      <th></th>\n",
       "      <th>calldate</th>\n",
       "      <th>src</th>\n",
       "      <th>dst</th>\n",
       "      <th>lastapp</th>\n",
       "      <th>duration</th>\n",
       "      <th>billsec</th>\n",
       "      <th>disposition</th>\n",
       "      <th>month</th>\n",
       "    </tr>\n",
       "  </thead>\n",
       "  <tbody>\n",
       "    <tr>\n",
       "      <th>0</th>\n",
       "      <td>2023-04-01 07:58:45</td>\n",
       "      <td>137</td>\n",
       "      <td>64847613</td>\n",
       "      <td>Dial</td>\n",
       "      <td>25</td>\n",
       "      <td>2</td>\n",
       "      <td>ANSWERED</td>\n",
       "      <td>04</td>\n",
       "    </tr>\n",
       "    <tr>\n",
       "      <th>1</th>\n",
       "      <td>2023-04-01 07:59:27</td>\n",
       "      <td>121</td>\n",
       "      <td>2205310</td>\n",
       "      <td>Congestion</td>\n",
       "      <td>6</td>\n",
       "      <td>4</td>\n",
       "      <td>ANSWERED</td>\n",
       "      <td>04</td>\n",
       "    </tr>\n",
       "    <tr>\n",
       "      <th>2</th>\n",
       "      <td>2023-04-01 07:59:35</td>\n",
       "      <td>121</td>\n",
       "      <td>2205310</td>\n",
       "      <td>Congestion</td>\n",
       "      <td>8</td>\n",
       "      <td>6</td>\n",
       "      <td>ANSWERED</td>\n",
       "      <td>04</td>\n",
       "    </tr>\n",
       "    <tr>\n",
       "      <th>3</th>\n",
       "      <td>2023-04-01 07:59:46</td>\n",
       "      <td>258</td>\n",
       "      <td>68159499</td>\n",
       "      <td>Dial</td>\n",
       "      <td>0</td>\n",
       "      <td>0</td>\n",
       "      <td>NO ANSWER</td>\n",
       "      <td>04</td>\n",
       "    </tr>\n",
       "    <tr>\n",
       "      <th>4</th>\n",
       "      <td>2023-04-01 07:59:49</td>\n",
       "      <td>258</td>\n",
       "      <td>63173530</td>\n",
       "      <td>AGI</td>\n",
       "      <td>2</td>\n",
       "      <td>0</td>\n",
       "      <td>ANSWERED</td>\n",
       "      <td>04</td>\n",
       "    </tr>\n",
       "  </tbody>\n",
       "</table>\n",
       "</div>"
      ],
      "text/plain": [
       "             calldate  src       dst     lastapp  duration  billsec  \\\n",
       "0 2023-04-01 07:58:45  137  64847613        Dial        25        2   \n",
       "1 2023-04-01 07:59:27  121   2205310  Congestion         6        4   \n",
       "2 2023-04-01 07:59:35  121   2205310  Congestion         8        6   \n",
       "3 2023-04-01 07:59:46  258  68159499        Dial         0        0   \n",
       "4 2023-04-01 07:59:49  258  63173530         AGI         2        0   \n",
       "\n",
       "  disposition month  \n",
       "0    ANSWERED    04  \n",
       "1    ANSWERED    04  \n",
       "2    ANSWERED    04  \n",
       "3   NO ANSWER    04  \n",
       "4    ANSWERED    04  "
      ]
     },
     "execution_count": 8,
     "metadata": {},
     "output_type": "execute_result"
    }
   ],
   "source": [
    "# La columna calldate no es del tipo Date y hora, por lo que primero se debe convertir a este formato utilizando el método to_datetime()\n",
    "llamadas_panama.calldate = pd.to_datetime(llamadas_panama.calldate,format='%Y-%m-%d %H:%M:%S')\n",
    "# Se crea el mes para luego agrupar por fecha\n",
    "llamadas_panama['month'] = llamadas_panama['calldate'].dt.strftime('%m')\n",
    "llamadas_panama.head()"
   ]
  },
  {
   "cell_type": "code",
   "execution_count": 191,
   "metadata": {},
   "outputs": [
    {
     "data": {
      "text/plain": [
       "array([('dst', ''), ('disposition', ''), ('month', 'count'),\n",
       "       ('duration', 'sum')], dtype=object)"
      ]
     },
     "execution_count": 191,
     "metadata": {},
     "output_type": "execute_result"
    }
   ],
   "source": [
    "# Se agrupa por mes\n",
    "llamadas_panama_mes = llamadas_panama.groupby(['month','dst','disposition'], as_index=False).agg({\n",
    "    \"month\":['count'],\n",
    "    \"duration\": ['sum']\n",
    "})\n",
    "llamadas_panama_mes.tail(50)\n",
    "\n",
    "llamadas_panama_mes.columns.values"
   ]
  },
  {
   "cell_type": "markdown",
   "metadata": {},
   "source": [
    "# Se trabaja con los números de la central"
   ]
  },
  {
   "cell_type": "code",
   "execution_count": 65,
   "metadata": {},
   "outputs": [
    {
     "data": {
      "text/html": [
       "<div>\n",
       "<style scoped>\n",
       "    .dataframe tbody tr th:only-of-type {\n",
       "        vertical-align: middle;\n",
       "    }\n",
       "\n",
       "    .dataframe tbody tr th {\n",
       "        vertical-align: top;\n",
       "    }\n",
       "\n",
       "    .dataframe thead th {\n",
       "        text-align: right;\n",
       "    }\n",
       "</style>\n",
       "<table border=\"1\" class=\"dataframe\">\n",
       "  <thead>\n",
       "    <tr style=\"text-align: right;\">\n",
       "      <th></th>\n",
       "      <th>dst</th>\n",
       "      <th>nada</th>\n",
       "    </tr>\n",
       "  </thead>\n",
       "  <tbody>\n",
       "    <tr>\n",
       "      <th>0</th>\n",
       "      <td>2662864</td>\n",
       "      <td>1</td>\n",
       "    </tr>\n",
       "    <tr>\n",
       "      <th>1</th>\n",
       "      <td>66751778</td>\n",
       "      <td>1</td>\n",
       "    </tr>\n",
       "    <tr>\n",
       "      <th>2</th>\n",
       "      <td>2254834</td>\n",
       "      <td>1</td>\n",
       "    </tr>\n",
       "    <tr>\n",
       "      <th>3</th>\n",
       "      <td>64128465</td>\n",
       "      <td>1</td>\n",
       "    </tr>\n",
       "    <tr>\n",
       "      <th>4</th>\n",
       "      <td>62221379</td>\n",
       "      <td>1</td>\n",
       "    </tr>\n",
       "  </tbody>\n",
       "</table>\n",
       "</div>"
      ],
      "text/plain": [
       "        dst nada\n",
       "0   2662864    1\n",
       "1  66751778    1\n",
       "2   2254834    1\n",
       "3  64128465    1\n",
       "4  62221379    1"
      ]
     },
     "execution_count": 65,
     "metadata": {},
     "output_type": "execute_result"
    }
   ],
   "source": [
    "# Elimino el CLI_IDENTIFICACION porque no se necesita para el análisis\n",
    "columns_names = telefonos_sistema.columns.values\n",
    "columns_names\n",
    "\n",
    "# Elimino los duplicados\n",
    "telefonos_sistema= telefonos_sistema.drop(columns=['CLI_IDENTIFICACION'])\n",
    "telefonos_sistema = telefonos_sistema.rename(columns={'NUMERO':'dst'})\n",
    "telefonos_sistema.columns\n",
    "telefonos_sistema.head()\n",
    "\n",
    "#Voy a crear una columna llamada \"nada\" sólo para cerciorarme de que los joins funcionan, luego no se toma en cuenta para los análisis\n",
    "telefonos_sistema['nada'] = '1'\n",
    "telefonos_sistema.head()"
   ]
  },
  {
   "cell_type": "markdown",
   "metadata": {},
   "source": [
    "# Identificar cuáles teléfonos registrados en summa no se han marcado en los últimos 3 meses (cruce de summa con la central telefónica): Aunque la cuenta esté gestionada, puede que el gestor no haya marcado todos los teléfonos."
   ]
  },
  {
   "cell_type": "code",
   "execution_count": 122,
   "metadata": {},
   "outputs": [
    {
     "data": {
      "text/html": [
       "<div>\n",
       "<style scoped>\n",
       "    .dataframe tbody tr th:only-of-type {\n",
       "        vertical-align: middle;\n",
       "    }\n",
       "\n",
       "    .dataframe tbody tr th {\n",
       "        vertical-align: top;\n",
       "    }\n",
       "\n",
       "    .dataframe thead th {\n",
       "        text-align: right;\n",
       "    }\n",
       "</style>\n",
       "<table border=\"1\" class=\"dataframe\">\n",
       "  <thead>\n",
       "    <tr style=\"text-align: right;\">\n",
       "      <th></th>\n",
       "      <th>dst</th>\n",
       "      <th>count</th>\n",
       "      <th>sum</th>\n",
       "      <th>nada</th>\n",
       "    </tr>\n",
       "  </thead>\n",
       "  <tbody>\n",
       "    <tr>\n",
       "      <th>1679568</th>\n",
       "      <td>9998121</td>\n",
       "      <td>1</td>\n",
       "      <td>9</td>\n",
       "      <td>1</td>\n",
       "    </tr>\n",
       "    <tr>\n",
       "      <th>1679569</th>\n",
       "      <td>9998121</td>\n",
       "      <td>1</td>\n",
       "      <td>21</td>\n",
       "      <td>1</td>\n",
       "    </tr>\n",
       "    <tr>\n",
       "      <th>1679570</th>\n",
       "      <td>9998225</td>\n",
       "      <td>1</td>\n",
       "      <td>17</td>\n",
       "      <td>1</td>\n",
       "    </tr>\n",
       "    <tr>\n",
       "      <th>1679571</th>\n",
       "      <td>9998225</td>\n",
       "      <td>1</td>\n",
       "      <td>9</td>\n",
       "      <td>1</td>\n",
       "    </tr>\n",
       "    <tr>\n",
       "      <th>1679572</th>\n",
       "      <td>9998477</td>\n",
       "      <td>1</td>\n",
       "      <td>39</td>\n",
       "      <td>1</td>\n",
       "    </tr>\n",
       "  </tbody>\n",
       "</table>\n",
       "</div>"
      ],
      "text/plain": [
       "             dst  count  sum nada\n",
       "1679568  9998121      1    9    1\n",
       "1679569  9998121      1   21    1\n",
       "1679570  9998225      1   17    1\n",
       "1679571  9998225      1    9    1\n",
       "1679572  9998477      1   39    1"
      ]
     },
     "execution_count": 122,
     "metadata": {},
     "output_type": "execute_result"
    }
   ],
   "source": [
    "# La data que tengo son llamadas que se han marcado (tienen duración y si se recibió respuesta o no, por ejemplo) y los números de la central teléfonica, por lo que sacar números que no se han marcado no es posible. En lugar de eso, voy a hacer el cruce de telefonos_sistema con llamadas_panama_mes, para obtener info de llamadas que si debieron haberse hecho.  \n",
    "# Inner join: This join creates a new table which will combine table A (llamadas_panama_mes) and table B (telefonos_sistema), based on the join-predicate (the column we decide to link the data on: dst). Fusión de los dos data frames en uno que contiene los elementos comunes de ambos.\n",
    "\n",
    "# Only use the 1st level index\n",
    "llamadas_panama_mes.columns = llamadas_panama_mes.columns.get_level_values(1)\n",
    "llamadas_panama_mes.head()\n",
    "# Notice how left_on is now a normal string since only 1 level is used\n",
    "opcion1=pd.merge(llamadas_panama_mes,telefonos_sistema,how=\"inner\",left_on=[\"dst\"],right_on=[\"dst\"])\n",
    "opcion1.tail()"
   ]
  },
  {
   "cell_type": "markdown",
   "metadata": {},
   "source": [
    "# Identificar los teléfonos que aparecen como marcados en summa pero no aparecen en la central telefónica."
   ]
  },
  {
   "cell_type": "code",
   "execution_count": 203,
   "metadata": {},
   "outputs": [
    {
     "data": {
      "text/plain": [
       "array([('dst', ''), ('disposition', ''), ('month', 'count'),\n",
       "       ('duration', 'sum')], dtype=object)"
      ]
     },
     "execution_count": 203,
     "metadata": {},
     "output_type": "execute_result"
    }
   ],
   "source": [
    "# Anti join: Returns all rows in the first data frame (llamadas_panama_mes) that do not have a matching team in the second data frame (telefonos_sistema)\n",
    "\n",
    "#columns_names = llamadas_panama_mes.columns.values\n",
    "#columns_names\n",
    "\n",
    "# Only use the 1st level index\n",
    "#llamadas_panama_mes.columns = llamadas_panama_mes.columns.get_level_values(1)\n",
    "#print(llamadas_panama_mes)\n",
    "# Notice how left_on is now a normal string since only 1 level is used\n",
    "#opcion2=pd.merge(llamadas_panama_mes,telefonos_sistema,how=\"outer\",left_on=[\"dst\"],right_on=[\"dst\"])\n",
    "\n",
    "\n",
    "columns_names\n",
    "\n",
    "#outer_join=llamadas_panama_mes.merge(telefonos_sistema, how='outer', left_on=['dst'], right_on=['dst'])\n",
    "#opcion2=outer_join[~(outer_join,merge=='both')].drop('_merge',axis=1)\n",
    "\n",
    "#outer_join.head()\n",
    "\n",
    "#rows = []\n",
    "#for i, row in telefonos_sistema.iterrows():\n",
    "#    if row.dst not in llamadas_panama_mes.dst.values:\n",
    "#        rows.append(row)\n",
    "\n",
    "#pd.concat([llamadas_panama_mes.T] + rows, axis=1).T\n",
    "\n",
    "\n",
    "\n",
    "#telefonos_sistema.columns.values\n",
    "#llamadas_panama_mes.columns.values\n"
   ]
  }
 ],
 "metadata": {
  "kernelspec": {
   "display_name": "Python 3",
   "language": "python",
   "name": "python3"
  },
  "language_info": {
   "codemirror_mode": {
    "name": "ipython",
    "version": 3
   },
   "file_extension": ".py",
   "mimetype": "text/x-python",
   "name": "python",
   "nbconvert_exporter": "python",
   "pygments_lexer": "ipython3",
   "version": "3.11.4"
  },
  "orig_nbformat": 4
 },
 "nbformat": 4,
 "nbformat_minor": 2
}
